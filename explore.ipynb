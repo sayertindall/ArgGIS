{
 "cells": [
  {
   "cell_type": "markdown",
   "metadata": {},
   "source": "# Exploring Shapefiles with shapefile_utils.py\n\nThis notebook demonstrates how to use the `shapefile_utils.py` module to explore and analyze any shapefile data. The examples show generic techniques that can be applied to any geospatial dataset.\n\n## 1. Setup and Importing Dependencies"
  },
  {
   "cell_type": "code",
   "metadata": {},
   "source": "import os\nimport sys\nimport pandas as pd\nimport numpy as np\nimport matplotlib.pyplot as plt\nimport seaborn as sns\nimport geopandas as gpd\nfrom shapely.geometry import Point, Polygon\nimport contextily as ctx  # For basemaps (optional, install with: pip install contextily)\n\n# Add the directory containing shapefile_utils.py to path if needed\n# sys.path.append('../path/to/directory')  # Uncomment if needed\nfrom shapefile_utils import ShapefileUtils\n\n# Set some plotting defaults\nplt.rcParams['figure.figsize'] = (15, 10)\nplt.style.use('seaborn-v0_8-whitegrid')  # or another style you prefer",
   "execution_count": null,
   "outputs": []
  },
  {
   "cell_type": "markdown",
   "metadata": {},
   "source": "import os\nimport sys\nimport pandas as pd\nimport numpy as np\nimport matplotlib.pyplot as plt\nimport seaborn as sns\nimport geopandas as gpd\nfrom shapely.geometry import Point, Polygon\nimport contextily as ctx  # For basemaps (optional, install with: pip install contextily)\n\n# Add the directory containing shapefile_utils.py to path if needed\n# sys.path.append('../path/to/directory')  # Uncomment if needed\nfrom shapefile_utils import ShapefileUtils\n\n# Set some plotting defaults\nplt.rcParams['figure.figsize'] = (15, 10)\nplt.style.use('seaborn-v0_8-whitegrid')  # or another style you prefer"
  },
  {
   "cell_type": "code",
   "metadata": {},
   "source": "# Initialize the shapefile object\nshapefile = ShapefileUtils(\"path/to/your/shapefile.shp\")\n\n# Access the GeoDataFrame with all features\ngdf = shapefile.gdf\n\n# Basic information about the dataset\nprint(f\"Total number of features: {len(gdf)}\")\nprint(f\"Coordinate Reference System: {gdf.crs}\")\nprint(f\"Spatial extent (minx, miny, maxx, maxy): {gdf.total_bounds}\")\n\n# Display column information\ncolumn_info = shapefile.get_column_info()\ndisplay(column_info)  # In Jupyter, this will show a nice table",
   "execution_count": null,
   "outputs": []
  },
  {
   "cell_type": "markdown",
   "metadata": {},
   "source": "## 2. Loading and Exploring Shapefile Data\n\n### 2.1 Initialize the Shapefile Object and Load Data"
  },
  {
   "cell_type": "code",
   "metadata": {},
   "source": "# Display the first few records\ndisplay(gdf.head())\n\n# Check the data types of each column\nprint(gdf.dtypes)\n\n# Get a summary of the dataset\nprint(gdf.describe())",
   "execution_count": null,
   "outputs": []
  },
  {
   "cell_type": "markdown",
   "metadata": {},
   "source": "# Initialize the shapefile object\nshapefile = ShapefileUtils(\"path/to/your/shapefile.shp\")\n\n# Access the GeoDataFrame with all features\ngdf = shapefile.gdf\n\n# Basic information about the dataset\nprint(f\"Total number of features: {len(gdf)}\")\nprint(f\"Coordinate Reference System: {gdf.crs}\")\nprint(f\"Spatial extent (minx, miny, maxx, maxy): {gdf.total_bounds}\")\n\n# Display column information\ncolumn_info = shapefile.get_column_info()\ndisplay(column_info)  # In Jupyter, this will show a nice table"
  },
  {
   "cell_type": "code",
   "metadata": {},
   "source": "# Choose a categorical column to analyze (e.g., 'category', 'type', 'class')\ncategory_column = 'category'  # Replace with your actual column name\n\n# Get the top 10 categories by count\ntop_categories = gdf[category_column].value_counts().head(10)\n\n# Plot the results\nplt.figure(figsize=(12, 8))\ntop_categories.plot(kind='bar')\nplt.title(f'Top 10 {category_column.title()} by Count')\nplt.xlabel(category_column.title())\nplt.ylabel('Count')\nplt.xticks(rotation=45, ha='right')\nplt.tight_layout()\nplt.show()",
   "execution_count": null,
   "outputs": []
  },
  {
   "cell_type": "markdown",
   "metadata": {},
   "source": "### 2.2 Examine the First Few Records"
  },
  {
   "cell_type": "code",
   "metadata": {},
   "source": "# Query features by a specific category value\ncategory_value = \"example_value\"  # Replace with your value of interest\nfiltered_features = gdf[gdf[category_column] == category_value]\nprint(f\"Found {len(filtered_features)} features with {category_column} = {category_value}\")\n\n# Display the first few filtered features\ndisplay(filtered_features.head())\n\n# Query features by a different attribute\nanother_column = \"another_field\"  # Replace with another column name\nanother_value = \"example\"  # Replace with your value of interest\nmore_filtered = gdf[gdf[another_column].str.contains(another_value, case=False, na=False)]\nprint(f\"Found {len(more_filtered)} features with {another_value} in {another_column}\")",
   "execution_count": null,
   "outputs": []
  },
  {
   "cell_type": "markdown",
   "metadata": {},
   "source": "# Display the first few records\ndisplay(gdf.head())\n\n# Check the data types of each column\nprint(gdf.dtypes)\n\n# Get a summary of the dataset\nprint(gdf.describe())"
  },
  {
   "cell_type": "code",
   "metadata": {},
   "source": "# Plot all features\nfig, ax = plt.subplots(figsize=(15, 10))\ngdf.plot(ax=ax, color='lightblue', edgecolor='black')\nplt.title(\"All Features in Dataset\")\nplt.xlabel(\"Longitude\")\nplt.ylabel(\"Latitude\")\nplt.tight_layout()\nplt.show()",
   "execution_count": null,
   "outputs": []
  },
  {
   "cell_type": "markdown",
   "metadata": {},
   "source": "## 3. Exploring Features by Category\n\n### 3.1 Find Top Categories"
  },
  {
   "cell_type": "code",
   "metadata": {},
   "source": "# Plot features colored by category\n# First, filter to only include top categories for better visualization\ntop_n = 5  # Show top 5 categories with distinct colors\ntop_categories_list = top_categories.index[:top_n].tolist()\nfiltered_gdf = gdf[gdf[category_column].isin(top_categories_list)]\n\n# Plot with colors by category\nfig, ax = plt.subplots(figsize=(15, 10))\nfiltered_gdf.plot(column=category_column, categorical=True, legend=True, ax=ax)\nplt.title(f'Features by Top {top_n} {category_column.title()} Values')\nplt.tight_layout()\nplt.show()",
   "execution_count": null,
   "outputs": []
  },
  {
   "cell_type": "markdown",
   "metadata": {},
   "source": "# Choose a categorical column to analyze (e.g., 'category', 'type', 'class')\ncategory_column = 'category'  # Replace with your actual column name\n\n# Get the top 10 categories by count\ntop_categories = gdf[category_column].value_counts().head(10)\n\n# Plot the results\nplt.figure(figsize=(12, 8))\ntop_categories.plot(kind='bar')\nplt.title(f'Top 10 {category_column.title()} by Count')\nplt.xlabel(category_column.title())\nplt.ylabel('Count')\nplt.xticks(rotation=45, ha='right')\nplt.tight_layout()\nplt.show()"
  },
  {
   "cell_type": "code",
   "metadata": {},
   "source": "# Query by feature name (assuming there's a name column)\nname_column = \"name\"  # Replace with your actual name column\nfeature_name = \"Example Feature\"  # Replace with a feature name to search for\nname_query = gdf[gdf[name_column].str.contains(feature_name, case=False, na=False)]\nif not name_query.empty:\n    print(f\"Found feature: {name_query.iloc[0][name_column]}\")\n    \n    # Plot this specific feature\n    fig, ax = plt.subplots(figsize=(15, 10))\n    name_query.plot(ax=ax, color='red', edgecolor='black')\n    plt.title(f\"{feature_name} Feature\")\n    plt.tight_layout()\n    plt.show()\n\n# Query by feature ID\nid_column = \"id\"  # Replace with your actual ID column\nid_value = \"A123\"  # Replace with an ID to search for\nid_query = gdf[gdf[id_column].str.contains(id_value, case=False, na=False)]\nprint(f\"Found {len(id_query)} features with ID containing '{id_value}'\")",
   "execution_count": null,
   "outputs": []
  },
  {
   "cell_type": "markdown",
   "metadata": {},
   "source": "### 3.2 Query Features by Category"
  },
  {
   "cell_type": "code",
   "metadata": {},
   "source": "# Query features at a specific location (longitude, latitude)\n# Example coordinates - replace with coordinates relevant to your data\nlon, lat = -70.0, 40.5\n\n# Create a point geometry\npoint = Point(lon, lat)\n\n# Find features that contain this point\npoint_query = gdf[gdf.geometry.contains(point)]\nprint(f\"Found {len(point_query)} features containing the point ({lon}, {lat})\")\n\n# Find features within a buffer distance (e.g., 5km)\n# First convert to a projected CRS for accurate distance measurement\ngdf_projected = gdf.to_crs(epsg=3857)  # Web Mercator projection\npoint_projected = gpd.GeoDataFrame([{'geometry': point}], geometry='geometry', crs=\"EPSG:4326\").to_crs(epsg=3857)\n\n# Create a buffer of 5km (5000 meters)\nbuffer = point_projected.buffer(5000)[0]\n\n# Convert buffer back to original CRS\nbuffer_original_crs = gpd.GeoDataFrame([{'geometry': buffer}], geometry='geometry', crs=\"EPSG:3857\").to_crs(gdf.crs).geometry[0]\n\n# Find features that intersect with the buffer\nbuffer_query = gdf[gdf.geometry.intersects(buffer_original_crs)]\nprint(f\"Found {len(buffer_query)} features within 5km of the point\")\n\n# Plot the results\nif not buffer_query.empty:\n    fig, ax = plt.subplots(figsize=(15, 10))\n    buffer_query.plot(ax=ax, color='blue', edgecolor='black', alpha=0.5)\n    \n    # Add the query point to the plot\n    point_gdf = gpd.GeoDataFrame([{'geometry': point}], geometry='geometry', crs=gdf.crs)\n    point_gdf.plot(ax=ax, color='red', markersize=50)\n    \n    # Add the buffer to the plot\n    buffer_gdf = gpd.GeoDataFrame([{'geometry': buffer_original_crs}], geometry='geometry', crs=gdf.crs)\n    buffer_gdf.boundary.plot(ax=ax, color='green', linewidth=2)\n    \n    plt.title(f\"Features within 5km of ({lon}, {lat})\")\n    plt.tight_layout()\n    plt.show()",
   "execution_count": null,
   "outputs": []
  },
  {
   "cell_type": "markdown",
   "metadata": {},
   "source": "# Query features by a specific category value\ncategory_value = \"example_value\"  # Replace with your value of interest\nfiltered_features = gdf[gdf[category_column] == category_value]\nprint(f\"Found {len(filtered_features)} features with {category_column} = {category_value}\")\n\n# Display the first few filtered features\ndisplay(filtered_features.head())\n\n# Query features by a different attribute\nanother_column = \"another_field\"  # Replace with another column name\nanother_value = \"example\"  # Replace with your value of interest\nmore_filtered = gdf[gdf[another_column].str.contains(another_value, case=False, na=False)]\nprint(f\"Found {len(more_filtered)} features with {another_value} in {another_column}\")"
  },
  {
   "cell_type": "code",
   "metadata": {},
   "source": "# Ensure the GeoDataFrame is in a projected CRS for accurate measurements\ngdf_projected = gdf.to_crs(epsg=3857)  # Web Mercator\n\n# Calculate area in square kilometers\ngdf_projected['area_km2'] = gdf_projected.geometry.area / 1_000_000\n\nprint(f\"Total area of all features: {gdf_projected['area_km2'].sum():.2f} km\u00b2\")\nprint(f\"Average feature area: {gdf_projected['area_km2'].mean():.2f} km\u00b2\")\nprint(f\"Smallest feature: {gdf_projected['area_km2'].min():.2f} km\u00b2\")\nprint(f\"Largest feature: {gdf_projected['area_km2'].max():.2f} km\u00b2\")\n\n# Create a histogram of feature areas\nplt.figure(figsize=(12, 8))\nsns.histplot(gdf_projected['area_km2'], bins=30)\nplt.title('Distribution of Feature Areas')\nplt.xlabel('Area (km\u00b2)')\nplt.ylabel('Count')\nplt.axvline(gdf_projected['area_km2'].mean(), color='red', linestyle='--', label=f'Mean: {gdf_projected[\"area_km2\"].mean():.2f} km\u00b2')\nplt.legend()\nplt.show()\n\n# Group by category and calculate total area\nif category_column in gdf.columns:\n    category_areas = gdf_projected.groupby(category_column)['area_km2'].sum().sort_values(ascending=False).head(10)\n\n    # Plot total area by category\n    plt.figure(figsize=(12, 8))\n    category_areas.plot(kind='bar')\n    plt.title(f'Top 10 {category_column.title()} by Total Area')\n    plt.xlabel(category_column.title())\n    plt.ylabel('Total Area (km\u00b2)')\n    plt.xticks(rotation=45, ha='right')\n    plt.tight_layout()\n    plt.show()",
   "execution_count": null,
   "outputs": []
  },
  {
   "cell_type": "markdown",
   "metadata": {},
   "source": "## 4. Spatial Visualization of Features\n\n### 4.1 Basic Map of All Features"
  },
  {
   "cell_type": "code",
   "metadata": {},
   "source": "# Export all features to GeoJSON\noutput_path = \"all_features.geojson\"\ngdf.to_file(output_path, driver='GeoJSON')\nprint(f\"Exported to: {output_path}\")\n\n# Export only filtered features\nfiltered_output = \"filtered_features.geojson\"\nfiltered_features.to_file(filtered_output, driver='GeoJSON')\nprint(f\"Exported filtered features to: {filtered_output}\")",
   "execution_count": null,
   "outputs": []
  },
  {
   "cell_type": "markdown",
   "metadata": {},
   "source": "# Plot all features\nfig, ax = plt.subplots(figsize=(15, 10))\ngdf.plot(ax=ax, color='lightblue', edgecolor='black')\nplt.title(\"All Features in Dataset\")\nplt.xlabel(\"Longitude\")\nplt.ylabel(\"Latitude\")\nplt.tight_layout()\nplt.show()"
  },
  {
   "cell_type": "code",
   "metadata": {},
   "source": "# Export attribute data to CSV (without geometry)\ncsv_path = \"features_data.csv\"\ngdf.drop(columns=['geometry']).to_csv(csv_path, index=False)\nprint(f\"Exported attribute data to: {csv_path}\")",
   "execution_count": null,
   "outputs": []
  },
  {
   "cell_type": "markdown",
   "metadata": {},
   "source": "### 4.2 Colored Map by Category"
  },
  {
   "cell_type": "code",
   "metadata": {},
   "source": "# Create a sample DataFrame with point locations\npoint_data = pd.DataFrame({\n    'name': ['Point A', 'Point B', 'Point C', 'Point D', 'Point E'],\n    'type': ['Type 1', 'Type 2', 'Type 1', 'Type 2', 'Type 3'],\n    'value': [100, 250, 150, 300, 120],\n    'latitude': [40.5, 40.7, 40.9, 41.1, 41.3],\n    'longitude': [-70.0, -70.2, -70.4, -70.6, -70.8]\n})\n\n# Create a GeoDataFrame from the points\ngeometry = [Point(xy) for xy in zip(point_data['longitude'], point_data['latitude'])]\npoints_gdf = gpd.GeoDataFrame(point_data, geometry=geometry, crs=gdf.crs)\n\n# Perform spatial join to determine which feature each point falls within\njoined_data = gpd.sjoin(points_gdf, gdf, how='left', predicate='within')\n\n# Display the results\nprint(\"Points with their corresponding features:\")\ndisplay(joined_data[['name', 'type', 'value'] + [col for col in joined_data.columns if col.startswith('index_')]])\n\n# Plot the points on the features map\nfig, ax = plt.subplots(figsize=(15, 10))\ngdf.plot(ax=ax, color='lightblue', edgecolor='black', alpha=0.5)\n\n# Plot points with different colors by type\npoints_gdf.plot(ax=ax, column='type', categorical=True, legend=True, markersize=50)\n\nplt.title('Points and Their Corresponding Features')\nplt.tight_layout()\nplt.show()",
   "execution_count": null,
   "outputs": []
  },
  {
   "cell_type": "markdown",
   "metadata": {},
   "source": "# Plot features colored by category\n# First, filter to only include top categories for better visualization\ntop_n = 5  # Show top 5 categories with distinct colors\ntop_categories_list = top_categories.index[:top_n].tolist()\nfiltered_gdf = gdf[gdf[category_column].isin(top_categories_list)]\n\n# Plot with colors by category\nfig, ax = plt.subplots(figsize=(15, 10))\nfiltered_gdf.plot(column=category_column, categorical=True, legend=True, ax=ax)\nplt.title(f'Features by Top {top_n} {category_column.title()} Values')\nplt.tight_layout()\nplt.show()"
  },
  {
   "cell_type": "code",
   "metadata": {},
   "source": "# Select a feature of interest\nfeature_of_interest_name = \"Example Feature\"  # Replace with a feature name in your data\nfeature_of_interest = gdf[gdf[name_column] == feature_of_interest_name]\n\nif not feature_of_interest.empty:\n    feature_of_interest = feature_of_interest.iloc[0]\n    \n    # Find all features that share a boundary with the feature of interest\n    neighbors = gdf[gdf.geometry.touches(feature_of_interest.geometry)]\n    print(f\"Found {len(neighbors)} neighboring features to {feature_of_interest[name_column]}\")\n    \n    # Plot the feature and its neighbors\n    fig, ax = plt.subplots(figsize=(15, 10))\n    \n    # Plot all features as background\n    gdf.plot(ax=ax, color='lightgrey', edgecolor='grey')\n    \n    # Plot neighbors\n    neighbors.plot(ax=ax, color='lightblue', edgecolor='blue')\n    \n    # Plot the feature of interest\n    gpd.GeoDataFrame([feature_of_interest], geometry='geometry').plot(\n        ax=ax, color='red', edgecolor='black'\n    )\n    \n    plt.title(f\"{feature_of_interest[name_column]} and Its Neighboring Features\")\n    plt.tight_layout()\n    plt.show()",
   "execution_count": null,
   "outputs": []
  },
  {
   "cell_type": "markdown",
   "metadata": {},
   "source": "## 5. Querying Features by Name and ID"
  },
  {
   "cell_type": "code",
   "metadata": {},
   "source": "# Create an interactive map using folium\nimport folium\n\n# Get the centroid of the dataset for map centering\ncentroid = gdf.unary_union.centroid\nmap_center = [centroid.y, centroid.x]\n\n# Create a base map centered on the data\nm = folium.Map(location=map_center, zoom_start=8)\n\n# Function to style the GeoJSON features\ndef style_function(feature):\n    return {\n        'fillColor': '#ffff00',\n        'color': '#000000',\n        'weight': 1,\n        'fillOpacity': 0.5\n    }\n\n# Function to highlight features on hover\ndef highlight_function(feature):\n    return {\n        'fillColor': '#ff0000',\n        'color': '#000000',\n        'weight': 3,\n        'fillOpacity': 0.7\n    }\n\n# Convert the GeoDataFrame to GeoJSON\ngdf_wgs84 = gdf.to_crs(epsg=4326)  # Ensure it's in WGS84 for folium\n\n# Choose columns for tooltips (replace with actual column names from your data)\ntooltip_columns = [name_column, category_column]\ntooltip_aliases = ['Name:', 'Category:']\n\n# Add the GeoJSON to the map with tooltips\nfolium.GeoJson(\n    gdf_wgs84,\n    name='Features',\n    style_function=style_function,\n    highlight_function=highlight_function,\n    tooltip=folium.GeoJsonTooltip(\n        fields=tooltip_columns,\n        aliases=tooltip_aliases,\n        localize=True\n    )\n).add_to(m)\n\n# Add layer control\nfolium.LayerControl().add_to(m)\n\n# Save the map to an HTML file\nm.save('interactive_map.html')\nprint(\"Interactive map saved to 'interactive_map.html'\")",
   "execution_count": null,
   "outputs": []
  },
  {
   "cell_type": "markdown",
   "metadata": {},
   "source": "# Query by feature name (assuming there's a name column)\nname_column = \"name\"  # Replace with your actual name column\nfeature_name = \"Example Feature\"  # Replace with a feature name to search for\nname_query = gdf[gdf[name_column].str.contains(feature_name, case=False, na=False)]\nif not name_query.empty:\n    print(f\"Found feature: {name_query.iloc[0][name_column]}\")\n    \n    # Plot this specific feature\n    fig, ax = plt.subplots(figsize=(15, 10))\n    name_query.plot(ax=ax, color='red', edgecolor='black')\n    plt.title(f\"{feature_name} Feature\")\n    plt.tight_layout()\n    plt.show()\n\n# Query by feature ID\nid_column = \"id\"  # Replace with your actual ID column\nid_value = \"A123\"  # Replace with an ID to search for\nid_query = gdf[gdf[id_column].str.contains(id_value, case=False, na=False)]\nprint(f\"Found {len(id_query)} features with ID containing '{id_value}'\")"
  },
  {
   "cell_type": "markdown",
   "metadata": {},
   "source": "## 6. Spatial Queries\n\n### 6.1 Query by Geographic Location"
  },
  {
   "cell_type": "markdown",
   "metadata": {},
   "source": "# Query features at a specific location (longitude, latitude)\n# Example coordinates - replace with coordinates relevant to your data\nlon, lat = -70.0, 40.5\n\n# Create a point geometry\npoint = Point(lon, lat)\n\n# Find features that contain this point\npoint_query = gdf[gdf.geometry.contains(point)]\nprint(f\"Found {len(point_query)} features containing the point ({lon}, {lat})\")\n\n# Find features within a buffer distance (e.g., 5km)\n# First convert to a projected CRS for accurate distance measurement\ngdf_projected = gdf.to_crs(epsg=3857)  # Web Mercator projection\npoint_projected = gpd.GeoDataFrame([{'geometry': point}], geometry='geometry', crs=\"EPSG:4326\").to_crs(epsg=3857)\n\n# Create a buffer of 5km (5000 meters)\nbuffer = point_projected.buffer(5000)[0]\n\n# Convert buffer back to original CRS\nbuffer_original_crs = gpd.GeoDataFrame([{'geometry': buffer}], geometry='geometry', crs=\"EPSG:3857\").to_crs(gdf.crs).geometry[0]\n\n# Find features that intersect with the buffer\nbuffer_query = gdf[gdf.geometry.intersects(buffer_original_crs)]\nprint(f\"Found {len(buffer_query)} features within 5km of the point\")\n\n# Plot the results\nif not buffer_query.empty:\n    fig, ax = plt.subplots(figsize=(15, 10))\n    buffer_query.plot(ax=ax, color='blue', edgecolor='black', alpha=0.5)\n    \n    # Add the query point to the plot\n    point_gdf = gpd.GeoDataFrame([{'geometry': point}], geometry='geometry', crs=gdf.crs)\n    point_gdf.plot(ax=ax, color='red', markersize=50)\n    \n    # Add the buffer to the plot\n    buffer_gdf = gpd.GeoDataFrame([{'geometry': buffer_original_crs}], geometry='geometry', crs=gdf.crs)\n    buffer_gdf.boundary.plot(ax=ax, color='green', linewidth=2)\n    \n    plt.title(f\"Features within 5km of ({lon}, {lat})\")\n    plt.tight_layout()\n    plt.show()"
  },
  {
   "cell_type": "markdown",
   "metadata": {},
   "source": "## 7. Calculating Areas and Statistics"
  },
  {
   "cell_type": "markdown",
   "metadata": {},
   "source": "# Ensure the GeoDataFrame is in a projected CRS for accurate measurements\ngdf_projected = gdf.to_crs(epsg=3857)  # Web Mercator\n\n# Calculate area in square kilometers\ngdf_projected['area_km2'] = gdf_projected.geometry.area / 1_000_000\n\nprint(f\"Total area of all features: {gdf_projected['area_km2'].sum():.2f} km\u00b2\")\nprint(f\"Average feature area: {gdf_projected['area_km2'].mean():.2f} km\u00b2\")\nprint(f\"Smallest feature: {gdf_projected['area_km2'].min():.2f} km\u00b2\")\nprint(f\"Largest feature: {gdf_projected['area_km2'].max():.2f} km\u00b2\")\n\n# Create a histogram of feature areas\nplt.figure(figsize=(12, 8))\nsns.histplot(gdf_projected['area_km2'], bins=30)\nplt.title('Distribution of Feature Areas')\nplt.xlabel('Area (km\u00b2)')\nplt.ylabel('Count')\nplt.axvline(gdf_projected['area_km2'].mean(), color='red', linestyle='--', label=f'Mean: {gdf_projected[\"area_km2\"].mean():.2f} km\u00b2')\nplt.legend()\nplt.show()\n\n# Group by category and calculate total area\nif category_column in gdf.columns:\n    category_areas = gdf_projected.groupby(category_column)['area_km2'].sum().sort_values(ascending=False).head(10)\n\n    # Plot total area by category\n    plt.figure(figsize=(12, 8))\n    category_areas.plot(kind='bar')\n    plt.title(f'Top 10 {category_column.title()} by Total Area')\n    plt.xlabel(category_column.title())\n    plt.ylabel('Total Area (km\u00b2)')\n    plt.xticks(rotation=45, ha='right')\n    plt.tight_layout()\n    plt.show()"
  },
  {
   "cell_type": "markdown",
   "metadata": {},
   "source": "## 8. Exporting Data\n\n### 8.1 Export to GeoJSON"
  },
  {
   "cell_type": "markdown",
   "metadata": {},
   "source": "# Export all features to GeoJSON\noutput_path = \"all_features.geojson\"\ngdf.to_file(output_path, driver='GeoJSON')\nprint(f\"Exported to: {output_path}\")\n\n# Export only filtered features\nfiltered_output = \"filtered_features.geojson\"\nfiltered_features.to_file(filtered_output, driver='GeoJSON')\nprint(f\"Exported filtered features to: {filtered_output}\")"
  },
  {
   "cell_type": "markdown",
   "metadata": {},
   "source": "### 8.2 Export to CSV (attribute data only)"
  },
  {
   "cell_type": "markdown",
   "metadata": {},
   "source": "# Export attribute data to CSV (without geometry)\ncsv_path = \"features_data.csv\"\ngdf.drop(columns=['geometry']).to_csv(csv_path, index=False)\nprint(f\"Exported attribute data to: {csv_path}\")"
  },
  {
   "cell_type": "markdown",
   "metadata": {},
   "source": "## 9. Spatial Joins with Other Data"
  },
  {
   "cell_type": "markdown",
   "metadata": {},
   "source": "# Create a sample DataFrame with point locations\npoint_data = pd.DataFrame({\n    'name': ['Point A', 'Point B', 'Point C', 'Point D', 'Point E'],\n    'type': ['Type 1', 'Type 2', 'Type 1', 'Type 2', 'Type 3'],\n    'value': [100, 250, 150, 300, 120],\n    'latitude': [40.5, 40.7, 40.9, 41.1, 41.3],\n    'longitude': [-70.0, -70.2, -70.4, -70.6, -70.8]\n})\n\n# Create a GeoDataFrame from the points\ngeometry = [Point(xy) for xy in zip(point_data['longitude'], point_data['latitude'])]\npoints_gdf = gpd.GeoDataFrame(point_data, geometry=geometry, crs=gdf.crs)\n\n# Perform spatial join to determine which feature each point falls within\njoined_data = gpd.sjoin(points_gdf, gdf, how='left', predicate='within')\n\n# Display the results\nprint(\"Points with their corresponding features:\")\ndisplay(joined_data[['name', 'type', 'value'] + [col for col in joined_data.columns if col.startswith('index_')]])\n\n# Plot the points on the features map\nfig, ax = plt.subplots(figsize=(15, 10))\ngdf.plot(ax=ax, color='lightblue', edgecolor='black', alpha=0.5)\n\n# Plot points with different colors by type\npoints_gdf.plot(ax=ax, column='type', categorical=True, legend=True, markersize=50)\n\nplt.title('Points and Their Corresponding Features')\nplt.tight_layout()\nplt.show()"
  },
  {
   "cell_type": "markdown",
   "metadata": {},
   "source": "## 10. Advanced Analysis: Finding Neighboring Features"
  },
  {
   "cell_type": "markdown",
   "metadata": {},
   "source": "# Select a feature of interest\nfeature_of_interest_name = \"Example Feature\"  # Replace with a feature name in your data\nfeature_of_interest = gdf[gdf[name_column] == feature_of_interest_name]\n\nif not feature_of_interest.empty:\n    feature_of_interest = feature_of_interest.iloc[0]\n    \n    # Find all features that share a boundary with the feature of interest\n    neighbors = gdf[gdf.geometry.touches(feature_of_interest.geometry)]\n    print(f\"Found {len(neighbors)} neighboring features to {feature_of_interest[name_column]}\")\n    \n    # Plot the feature and its neighbors\n    fig, ax = plt.subplots(figsize=(15, 10))\n    \n    # Plot all features as background\n    gdf.plot(ax=ax, color='lightgrey', edgecolor='grey')\n    \n    # Plot neighbors\n    neighbors.plot(ax=ax, color='lightblue', edgecolor='blue')\n    \n    # Plot the feature of interest\n    gpd.GeoDataFrame([feature_of_interest], geometry='geometry').plot(\n        ax=ax, color='red', edgecolor='black'\n    )\n    \n    plt.title(f\"{feature_of_interest[name_column]} and Its Neighboring Features\")\n    plt.tight_layout()\n    plt.show()"
  },
  {
   "cell_type": "markdown",
   "metadata": {},
   "source": "## 11. Creating Interactive Maps"
  },
  {
   "cell_type": "markdown",
   "metadata": {},
   "source": "# Create an interactive map using folium\nimport folium\n\n# Get the centroid of the dataset for map centering\ncentroid = gdf.unary_union.centroid\nmap_center = [centroid.y, centroid.x]\n\n# Create a base map centered on the data\nm = folium.Map(location=map_center, zoom_start=8)\n\n# Function to style the GeoJSON features\ndef style_function(feature):\n    return {\n        'fillColor': '#ffff00',\n        'color': '#000000',\n        'weight': 1,\n        'fillOpacity': 0.5\n    }\n\n# Function to highlight features on hover\ndef highlight_function(feature):\n    return {\n        'fillColor': '#ff0000',\n        'color': '#000000',\n        'weight': 3,\n        'fillOpacity': 0.7\n    }\n\n# Convert the GeoDataFrame to GeoJSON\ngdf_wgs84 = gdf.to_crs(epsg=4326)  # Ensure it's in WGS84 for folium\n\n# Choose columns for tooltips (replace with actual column names from your data)\ntooltip_columns = [name_column, category_column]\ntooltip_aliases = ['Name:', 'Category:']\n\n# Add the GeoJSON to the map with tooltips\nfolium.GeoJson(\n    gdf_wgs84,\n    name='Features',\n    style_function=style_function,\n    highlight_function=highlight_function,\n    tooltip=folium.GeoJsonTooltip(\n        fields=tooltip_columns,\n        aliases=tooltip_aliases,\n        localize=True\n    )\n).add_to(m)\n\n# Add layer control\nfolium.LayerControl().add_to(m)\n\n# Save the map to an HTML file\nm.save('interactive_map.html')\nprint(\"Interactive map saved to 'interactive_map.html'\")"
  },
  {
   "cell_type": "markdown",
   "metadata": {},
   "source": "## 12. Conclusion\n\nThis notebook has demonstrated how to use the `shapefile_utils.py` module to explore and analyze any shapefile data. The utilities and techniques shown here make it easy to:\n\n- Load and examine shapefile data\n- Query features by attributes, names, IDs, or location\n- Visualize features on maps\n- Calculate areas and statistics\n- Export data to various formats\n- Perform spatial joins with other datasets\n- Conduct advanced spatial analysis\n- Create interactive maps\n\nThese tools can be applied to any type of geospatial data stored in shapefiles, including administrative boundaries, natural features, infrastructure, land use, and many other types of geographic information. The techniques demonstrated are general-purpose and can be adapted to suit the specific requirements of your particular dataset and analysis needs."
  }
 ],
 "metadata": {
  "kernelspec": {
   "display_name": "Python 3",
   "language": "python",
   "name": "python3"
  },
  "language_info": {
   "codemirror_mode": {
    "name": "ipython",
    "version": 3
   },
   "file_extension": ".py",
   "mimetype": "text/x-python",
   "name": "python",
   "nbconvert_exporter": "python",
   "pygments_lexer": "ipython3",
   "version": "3.8.10"
  }
 },
 "nbformat": 4,
 "nbformat_minor": 4
}